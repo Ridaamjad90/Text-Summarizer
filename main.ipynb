{
 "cells": [
  {
   "cell_type": "code",
   "execution_count": 1,
   "id": "b84a2753-80c3-4f19-b8a7-acbb64e232ce",
   "metadata": {},
   "outputs": [
    {
     "name": "stderr",
     "output_type": "stream",
     "text": [
      "[nltk_data] Downloading package stopwords to\n",
      "[nltk_data]     C:\\Users\\rida.amjad\\AppData\\Roaming\\nltk_data...\n",
      "[nltk_data]   Package stopwords is already up-to-date!\n",
      "[nltk_data] Downloading package wordnet to\n",
      "[nltk_data]     C:\\Users\\rida.amjad\\AppData\\Roaming\\nltk_data...\n",
      "[nltk_data]   Package wordnet is already up-to-date!\n",
      "[nltk_data] Downloading package vader_lexicon to\n",
      "[nltk_data]     C:\\Users\\rida.amjad\\AppData\\Roaming\\nltk_data...\n",
      "[nltk_data]   Package vader_lexicon is already up-to-date!\n"
     ]
    }
   ],
   "source": [
    "import text_summarizer \n",
    "import yaml"
   ]
  },
  {
   "cell_type": "code",
   "execution_count": 2,
   "id": "666d8168-da62-45d1-9841-4d2164fd152d",
   "metadata": {},
   "outputs": [
    {
     "data": {
      "text/plain": [
       "'C:\\\\Users\\\\rida.amjad\\\\Python Preparation'"
      ]
     },
     "execution_count": 2,
     "metadata": {},
     "output_type": "execute_result"
    }
   ],
   "source": [
    "import os\n",
    "os.getcwd()"
   ]
  },
  {
   "cell_type": "code",
   "execution_count": 3,
   "id": "9fd9b308-753e-4467-84ea-4f51c7ca43c5",
   "metadata": {},
   "outputs": [],
   "source": [
    "# Fetch config\n",
    "with open('config.yaml') as f:\n",
    "    config = yaml.load(f, Loader=yaml.FullLoader)\n",
    "    "
   ]
  },
  {
   "cell_type": "code",
   "execution_count": 4,
   "id": "b52c356d-064f-4ac2-b528-7ed14fb5e3d9",
   "metadata": {},
   "outputs": [
    {
     "data": {
      "text/plain": [
       "{'Input': [{'type_of_input': {'unstructured_url': False}},\n",
       "  {'URL': 'https://profit.pakistantoday.com.pk/2024/06/10/brandon-timinsky-resigns-as-sadapay-ceo-after-papra-acquisition/'},\n",
       "  {'File_path': 'dawn_article.txt'}],\n",
       " 'Summarizer': [{'max_length': 100}, {'min_length': 50}]}"
      ]
     },
     "execution_count": 4,
     "metadata": {},
     "output_type": "execute_result"
    }
   ],
   "source": [
    "config"
   ]
  },
  {
   "cell_type": "code",
   "execution_count": 5,
   "id": "e275fb5e-1706-42ed-b76e-4e4fd46e8b8a",
   "metadata": {},
   "outputs": [
    {
     "name": "stdout",
     "output_type": "stream",
     "text": [
      "Fetch the text from the text.txt file\n",
      "word count of this article:\n",
      "279\n",
      "total character count of this article:\n",
      "1713\n",
      "Here's the summary of the article on the provided text\n",
      "[{'summary_text': 'Trump became the first US president to be convicted of a crime on Thursday when a New York jury found him guilty on all 34 counts he faced . Unanimity was required for any verdict . The verdict plunges the United States into unexplored territory ahead of the Nov. 5 presidential election .'}]\n",
      "Now running a detailed pre-processing on text: tokenization, removing stop words, lemmatization and converting to clean text\n",
      "The Sentiment of this  Text is:\n",
      "positive\n"
     ]
    }
   ],
   "source": [
    "# Run Summary\n",
    "text_summarizer.run_summary(config = config)"
   ]
  }
 ],
 "metadata": {
  "kernelspec": {
   "display_name": "Python 3 (ipykernel)",
   "language": "python",
   "name": "python3"
  },
  "language_info": {
   "codemirror_mode": {
    "name": "ipython",
    "version": 3
   },
   "file_extension": ".py",
   "mimetype": "text/x-python",
   "name": "python",
   "nbconvert_exporter": "python",
   "pygments_lexer": "ipython3",
   "version": "3.11.7"
  }
 },
 "nbformat": 4,
 "nbformat_minor": 5
}
